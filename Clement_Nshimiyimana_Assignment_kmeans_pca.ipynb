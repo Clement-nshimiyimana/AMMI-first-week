{
  "nbformat": 4,
  "nbformat_minor": 0,
  "metadata": {
    "kernelspec": {
      "display_name": "Python 3",
      "language": "python",
      "name": "python3"
    },
    "language_info": {
      "codemirror_mode": {
        "name": "ipython",
        "version": 3
      },
      "file_extension": ".py",
      "mimetype": "text/x-python",
      "name": "python",
      "nbconvert_exporter": "python",
      "pygments_lexer": "ipython3",
      "version": "3.8.5"
    },
    "colab": {
      "name": "Clement_Nshimiyimana_Assignment_kmeans_pca.ipynb",
      "provenance": [],
      "collapsed_sections": [],
      "include_colab_link": true
    }
  },
  "cells": [
    {
      "cell_type": "markdown",
      "metadata": {
        "id": "view-in-github",
        "colab_type": "text"
      },
      "source": [
        "<a href=\"https://colab.research.google.com/github/Clement-nshimiyimana/AMMI-first-week/blob/Colab/Clement_Nshimiyimana_Assignment_kmeans_pca.ipynb\" target=\"_parent\"><img src=\"https://colab.research.google.com/assets/colab-badge.svg\" alt=\"Open In Colab\"/></a>"
      ]
    },
    {
      "cell_type": "code",
      "metadata": {
        "id": "jY23Dsf5iyEY"
      },
      "source": [
        "import pandas as pd\n",
        "import numpy as np\n",
        "import seaborn as sns\n",
        "import matplotlib.pyplot as plt"
      ],
      "execution_count": 3,
      "outputs": []
    },
    {
      "cell_type": "code",
      "metadata": {
        "colab": {
          "base_uri": "https://localhost:8080/"
        },
        "id": "QnHy8Za0i9iZ",
        "outputId": "fc42b7f6-588b-45c8-a9f5-209bbde8f01d"
      },
      "source": [
        "from google.colab import  drive\n",
        "drive.mount('/content/drive')"
      ],
      "execution_count": 1,
      "outputs": [
        {
          "output_type": "stream",
          "text": [
            "Mounted at /content/drive\n"
          ],
          "name": "stdout"
        }
      ]
    },
    {
      "cell_type": "code",
      "metadata": {
        "id": "cFcdT9qfiyEe"
      },
      "source": [
        "dt =  pd.read_csv('/content/drive/MyDrive/Data.csv')"
      ],
      "execution_count": 4,
      "outputs": []
    },
    {
      "cell_type": "code",
      "metadata": {
        "colab": {
          "base_uri": "https://localhost:8080/",
          "height": 198
        },
        "id": "8hGYmxzRiyEe",
        "outputId": "f1f2c72c-b898-48dd-da15-f6e06eefc073"
      },
      "source": [
        "dt.head()"
      ],
      "execution_count": 5,
      "outputs": [
        {
          "output_type": "execute_result",
          "data": {
            "text/html": [
              "<div>\n",
              "<style scoped>\n",
              "    .dataframe tbody tr th:only-of-type {\n",
              "        vertical-align: middle;\n",
              "    }\n",
              "\n",
              "    .dataframe tbody tr th {\n",
              "        vertical-align: top;\n",
              "    }\n",
              "\n",
              "    .dataframe thead th {\n",
              "        text-align: right;\n",
              "    }\n",
              "</style>\n",
              "<table border=\"1\" class=\"dataframe\">\n",
              "  <thead>\n",
              "    <tr style=\"text-align: right;\">\n",
              "      <th></th>\n",
              "      <th>f1</th>\n",
              "      <th>f2</th>\n",
              "      <th>f3</th>\n",
              "      <th>f4</th>\n",
              "    </tr>\n",
              "  </thead>\n",
              "  <tbody>\n",
              "    <tr>\n",
              "      <th>0</th>\n",
              "      <td>5.1</td>\n",
              "      <td>3.5</td>\n",
              "      <td>1.4</td>\n",
              "      <td>0.2</td>\n",
              "    </tr>\n",
              "    <tr>\n",
              "      <th>1</th>\n",
              "      <td>4.9</td>\n",
              "      <td>3.0</td>\n",
              "      <td>1.4</td>\n",
              "      <td>0.2</td>\n",
              "    </tr>\n",
              "    <tr>\n",
              "      <th>2</th>\n",
              "      <td>4.7</td>\n",
              "      <td>3.2</td>\n",
              "      <td>1.3</td>\n",
              "      <td>0.2</td>\n",
              "    </tr>\n",
              "    <tr>\n",
              "      <th>3</th>\n",
              "      <td>4.6</td>\n",
              "      <td>3.1</td>\n",
              "      <td>1.5</td>\n",
              "      <td>0.2</td>\n",
              "    </tr>\n",
              "    <tr>\n",
              "      <th>4</th>\n",
              "      <td>5.0</td>\n",
              "      <td>3.6</td>\n",
              "      <td>1.4</td>\n",
              "      <td>0.2</td>\n",
              "    </tr>\n",
              "  </tbody>\n",
              "</table>\n",
              "</div>"
            ],
            "text/plain": [
              "    f1   f2   f3   f4\n",
              "0  5.1  3.5  1.4  0.2\n",
              "1  4.9  3.0  1.4  0.2\n",
              "2  4.7  3.2  1.3  0.2\n",
              "3  4.6  3.1  1.5  0.2\n",
              "4  5.0  3.6  1.4  0.2"
            ]
          },
          "metadata": {
            "tags": []
          },
          "execution_count": 5
        }
      ]
    },
    {
      "cell_type": "code",
      "metadata": {
        "id": "Sp92TmvqiyEf"
      },
      "source": [
        "class Kmeans:\n",
        "    def __init__(self, X, k= 3, iteration=1000):\n",
        "        self.k = k\n",
        "        self.iteration = iteration\n",
        "        self.centroids = []\n",
        "        self.clusters =[[] for i in range(self.k)]\n",
        "        self.X = X\n",
        "\n",
        "    \n",
        "    def compute_distance(self, p, centroid):\n",
        "\n",
        "        distances = np.sqrt(np.sum(p - centroid)**2)\n",
        "        return distances\n",
        "    \n",
        "    def predict(self):\n",
        "\n",
        "        N = len(self.X)\n",
        "\n",
        "        idx = np.random.choice(N, self.k,replace = False )\n",
        "\n",
        "        \n",
        "        for i in idx:\n",
        "            self.centroids.append(self.X[i])\n",
        "\n",
        "        \n",
        "        for iteration in range(self.iteration):\n",
        "\n",
        "            for i,j in enumerate(self.X):\n",
        "                dist = [self.compute_distance(j,point) for point in self.centroids]            \n",
        "                index = np.argmin(dist)\n",
        "                self.clusters[index].append(i)\n",
        "                \n",
        "            prev = self.centroids\n",
        "            self.centroids = self.update_centroids(self.clusters)\n",
        "            Labels = self.cluster_labels(self.clusters)\n",
        "#         \n",
        "            error = [self.compute_distance(prev[i],self.centroids[i]) for i in range(self.k)]\n",
        "                \n",
        "            if sum(error) == 0:\n",
        "                break\n",
        "                \n",
        "        return Labels, self.centroids\n",
        "    \n",
        "    def update_centroids(self,clusters):\n",
        "        \n",
        "        centroids = np.zeros((self.k,self.X.shape[1]))\n",
        "        \n",
        "        for i, j in enumerate(clusters):\n",
        "            centroid_ = np.mean(self.X[j], axis=0)\n",
        "            centroids[i] = centroid_\n",
        "        return centroids\n",
        "\n",
        "        \n",
        "    def cluster_labels(self, clusters):\n",
        "        \n",
        "        labels = np.empty(len(self.X))\n",
        "        \n",
        "        for cluster_idx, cluster in enumerate(clusters):\n",
        "            for i in cluster:\n",
        "                labels[i]=cluster_idx\n",
        "        return labels\n",
        "    "
      ],
      "execution_count": null,
      "outputs": []
    },
    {
      "cell_type": "code",
      "metadata": {
        "id": "aCZbCko2iyEg"
      },
      "source": [
        "model = Kmeans(dt.values)"
      ],
      "execution_count": null,
      "outputs": []
    },
    {
      "cell_type": "code",
      "metadata": {
        "id": "jFjd0SM2iyEg"
      },
      "source": [
        "Clusters, centroids = model.predict()"
      ],
      "execution_count": null,
      "outputs": []
    },
    {
      "cell_type": "code",
      "metadata": {
        "id": "prXjGVOqiyEg",
        "outputId": "a73e6e02-5030-4d1b-b24c-03d36e3be58a"
      },
      "source": [
        "centroids"
      ],
      "execution_count": null,
      "outputs": [
        {
          "output_type": "execute_result",
          "data": {
            "text/plain": [
              "array([[6.87368421, 3.08947368, 5.71842105, 2.07105263],\n",
              "       [5.00555556, 3.34444444, 1.5962963 , 0.3037037 ],\n",
              "       [5.94827586, 2.76896552, 4.4862069 , 1.46206897]])"
            ]
          },
          "metadata": {
            "tags": []
          },
          "execution_count": 179
        }
      ]
    },
    {
      "cell_type": "code",
      "metadata": {
        "id": "qYCpE1tEiyEh",
        "outputId": "cdaebe13-fca4-4109-82bb-85d63d227bcc"
      },
      "source": [
        "Clusters"
      ],
      "execution_count": null,
      "outputs": [
        {
          "output_type": "execute_result",
          "data": {
            "text/plain": [
              "array([1., 1., 1., 1., 1., 1., 1., 1., 1., 1., 1., 1., 1., 1., 1., 1., 1.,\n",
              "       1., 1., 1., 1., 1., 1., 1., 1., 1., 1., 1., 1., 1., 1., 1., 1., 1.,\n",
              "       1., 1., 1., 1., 1., 1., 1., 1., 1., 1., 1., 1., 1., 1., 1., 1., 0.,\n",
              "       2., 0., 2., 2., 2., 2., 1., 2., 2., 1., 2., 2., 2., 2., 2., 2., 2.,\n",
              "       2., 2., 2., 2., 2., 2., 2., 2., 2., 0., 2., 2., 2., 2., 2., 2., 2.,\n",
              "       2., 2., 2., 2., 2., 2., 2., 2., 1., 2., 2., 2., 2., 1., 2., 0., 2.,\n",
              "       0., 0., 0., 0., 2., 0., 0., 0., 0., 0., 0., 2., 2., 0., 0., 0., 0.,\n",
              "       2., 0., 2., 0., 2., 0., 0., 2., 2., 0., 0., 0., 0., 0., 2., 2., 0.,\n",
              "       0., 0., 2., 0., 0., 0., 2., 0., 0., 0., 2., 0., 0., 2.])"
            ]
          },
          "metadata": {
            "tags": []
          },
          "execution_count": 180
        }
      ]
    },
    {
      "cell_type": "code",
      "metadata": {
        "id": "qHT60sfAiyEh",
        "outputId": "4b5baf81-feb5-440b-e4b6-7c5d1e06cd6d"
      },
      "source": [
        "plt.scatter(dt['f1'], dt['f2'], c=Clusters)\n",
        "plt.scatter(centroids[:,0],centroids[:,1], marker='x',c='red')\n",
        "plt.title('f1 vs f2')"
      ],
      "execution_count": null,
      "outputs": [
        {
          "output_type": "execute_result",
          "data": {
            "text/plain": [
              "Text(0.5, 1.0, 'f1 vs f2')"
            ]
          },
          "metadata": {
            "tags": []
          },
          "execution_count": 181
        },
        {
          "output_type": "display_data",
          "data": {
            "image/png": "[encoded data removed]",
            "text/plain": [
              "<Figure size 432x288 with 1 Axes>"
            ]
          },
          "metadata": {
            "tags": [],
            "needs_background": "light"
          }
        }
      ]
    },
    {
      "cell_type": "code",
      "metadata": {
        "id": "qqeiQfr6iyEh",
        "outputId": "3cbb26cd-4e77-4c47-d00b-7cb16008c1bb"
      },
      "source": [
        "plt.scatter(dt['f1'], dt['f3'], c=Clusters)\n",
        "plt.scatter(centroids[:,0],centroids[:,2], marker='x',c='red')\n",
        "plt.title('f1 vs f3')"
      ],
      "execution_count": null,
      "outputs": [
        {
          "output_type": "execute_result",
          "data": {
            "text/plain": [
              "Text(0.5, 1.0, 'f1 vs f3')"
            ]
          },
          "metadata": {
            "tags": []
          },
          "execution_count": 182
        },
        {
          "output_type": "display_data",
          "data": {
            "image/png": "[encoded data removed]",
            "text/plain": [
              "<Figure size 432x288 with 1 Axes>"
            ]
          },
          "metadata": {
            "tags": [],
            "needs_background": "light"
          }
        }
      ]
    },
    {
      "cell_type": "code",
      "metadata": {
        "id": "u3Pm5GCKiyEi",
        "outputId": "e17c4404-14b7-4065-aaa9-9d779ee8b7a3"
      },
      "source": [
        "plt.scatter(dt['f1'], dt['f4'], c=Clusters)\n",
        "plt.scatter(centroids[:,0],centroids[:,3], marker='x',c='red')\n",
        "plt.title('f1 vs f4')"
      ],
      "execution_count": null,
      "outputs": [
        {
          "output_type": "execute_result",
          "data": {
            "text/plain": [
              "Text(0.5, 1.0, 'f1 vs f4')"
            ]
          },
          "metadata": {
            "tags": []
          },
          "execution_count": 183
        },
        {
          "output_type": "display_data",
          "data": {
            "image/png": "[encoded data removed]",
            "text/plain": [
              "<Figure size 432x288 with 1 Axes>"
            ]
          },
          "metadata": {
            "tags": [],
            "needs_background": "light"
          }
        }
      ]
    },
    {
      "cell_type": "code",
      "metadata": {
        "id": "jczLuiegiyEi"
      },
      "source": [
        "# colors=['purple', 'blue', 'green']\n",
        "# fig = plt.figure(figsize=(16,8))\n",
        "# ax = fig.add_subplot(111, projection='3d')\n",
        "# ax.scatter(dt['f1'], dt['f2'], dt['f3'],s= 50)\n",
        "# ax.scatter(centroids[:,0], centroids[:,1], centroids[:,2], marker='*', s=200)"
      ],
      "execution_count": 6,
      "outputs": []
    },
    {
      "cell_type": "code",
      "metadata": {
        "id": "H3bvjPZZiyEi"
      },
      "source": [
        ""
      ],
      "execution_count": null,
      "outputs": []
    },
    {
      "cell_type": "markdown",
      "metadata": {
        "id": "N9sbkiINiyEj"
      },
      "source": [
        "Principal components Analysis(PCA)"
      ]
    },
    {
      "cell_type": "code",
      "metadata": {
        "id": "WDHClasTiyEj"
      },
      "source": [
        " \n",
        "class PCA:\n",
        "    def __init__(self, X, num_components=2):\n",
        "        \n",
        "        self.num_components = num_components\n",
        "        self.X = X\n",
        "        \n",
        "    def fit(self):\n",
        "        \n",
        "        centered_data = self.X  - np.mean(self.X, axis = 0)\n",
        "\n",
        "        cov_matrix = np.cov(centered_data , rowvar = False)\n",
        "\n",
        "        eigenvalues , eigenvectors = np.linalg.eigh(cov_matrix)\n",
        "\n",
        "        idx = np.argsort(eigenvalues)[::-1]\n",
        "        eigenvalue = eigenvalues[idx]\n",
        "        eigenvector = eigenvectors[:,idx]\n",
        "        \n",
        "        return eigenvalue, eigenvector,centered_data\n",
        "\n",
        "    def transform_data(self):\n",
        "        eigen_values, eigen_vectors, centered_data = self.fit()\n",
        "        eigenvector_ = eigen_vectors[:,0:self.num_components]\n",
        "\n",
        "        X_reduced = np.dot(eigenvector_.T, centered_data.T).T\n",
        "\n",
        "        return X_reduced"
      ],
      "execution_count": null,
      "outputs": []
    },
    {
      "cell_type": "code",
      "metadata": {
        "id": "pfiovacciyEj"
      },
      "source": [
        "new_data = PCA(dt)"
      ],
      "execution_count": null,
      "outputs": []
    },
    {
      "cell_type": "code",
      "metadata": {
        "id": "jK1qrylNiyEj"
      },
      "source": [
        "eigenvalues, eigenvectors, data = new_data.fit()"
      ],
      "execution_count": null,
      "outputs": []
    },
    {
      "cell_type": "code",
      "metadata": {
        "id": "uWTRq4HYiyEk"
      },
      "source": [
        "Reduced_data = new_data.transform_data()"
      ],
      "execution_count": null,
      "outputs": []
    },
    {
      "cell_type": "code",
      "metadata": {
        "id": "Y0ZF_5EbiyEk"
      },
      "source": [
        "dataframe = pd.DataFrame(Reduced_data , columns = ['ff1','ff2'])\n"
      ],
      "execution_count": null,
      "outputs": []
    },
    {
      "cell_type": "markdown",
      "metadata": {
        "id": "hosv0GS-iyEk"
      },
      "source": [
        "Applying Kmeans to visualize the transformed data."
      ]
    },
    {
      "cell_type": "code",
      "metadata": {
        "id": "4Yrtq7NviyEk"
      },
      "source": [
        "model_new = Kmeans(Reduced_data, k=3)"
      ],
      "execution_count": null,
      "outputs": []
    },
    {
      "cell_type": "code",
      "metadata": {
        "id": "x1ayqjUkiyEk"
      },
      "source": [
        "clusters, Centroids = model_new.predict()"
      ],
      "execution_count": null,
      "outputs": []
    },
    {
      "cell_type": "code",
      "metadata": {
        "id": "yoHzEOtRiyEk",
        "outputId": "a6e64f93-6d7a-4370-af3d-b874b791c84d"
      },
      "source": [
        "Centroids"
      ],
      "execution_count": null,
      "outputs": [
        {
          "output_type": "execute_result",
          "data": {
            "text/plain": [
              "array([[ 2.64241546,  0.19088505],\n",
              "       [-1.32120773, -0.09544252]])"
            ]
          },
          "metadata": {
            "tags": []
          },
          "execution_count": 228
        }
      ]
    },
    {
      "cell_type": "code",
      "metadata": {
        "id": "WK1eC8WhiyEl",
        "outputId": "fd1ff2fa-256d-4fab-ab8b-d7881fdd012b"
      },
      "source": [
        "clusters"
      ],
      "execution_count": null,
      "outputs": [
        {
          "output_type": "execute_result",
          "data": {
            "text/plain": [
              "array([2., 0., 2., 0., 2., 2., 2., 2., 0., 0., 2., 2., 0., 2., 2., 2., 2.,\n",
              "       2., 2., 2., 2., 2., 2., 0., 0., 0., 0., 2., 2., 0., 0., 2., 2., 2.,\n",
              "       0., 2., 2., 2., 0., 2., 2., 0., 2., 0., 2., 0., 2., 0., 2., 2., 1.,\n",
              "       1., 1., 1., 1., 1., 1., 1., 1., 1., 1., 1., 1., 1., 1., 1., 1., 1.,\n",
              "       1., 1., 1., 1., 1., 1., 1., 1., 1., 1., 1., 1., 1., 1., 1., 1., 1.,\n",
              "       1., 1., 1., 1., 1., 1., 1., 1., 1., 1., 1., 1., 1., 1., 1., 1., 1.,\n",
              "       1., 1., 1., 1., 1., 1., 1., 1., 1., 1., 1., 1., 1., 1., 1., 1., 1.,\n",
              "       1., 1., 1., 1., 1., 1., 1., 1., 1., 1., 1., 1., 1., 1., 1., 1., 1.,\n",
              "       1., 1., 1., 1., 1., 1., 1., 1., 1., 1., 1., 1., 1., 1.])"
            ]
          },
          "metadata": {
            "tags": []
          },
          "execution_count": 241
        }
      ]
    },
    {
      "cell_type": "code",
      "metadata": {
        "id": "IBAsJiFCiyEl",
        "outputId": "636c91db-1397-4ffb-f3b3-cef2e05fec11"
      },
      "source": [
        "plt.scatter(Reduced_data[:,0], Reduced_data[:,1], c=clusters)\n",
        "plt.scatter(Centroids[:,0],Centroids[:,1], marker='x',c='red')\n",
        "plt.title('Data clusters after PCA')"
      ],
      "execution_count": null,
      "outputs": [
        {
          "output_type": "execute_result",
          "data": {
            "text/plain": [
              "Text(0.5, 1.0, 'Data clusters after PCA')"
            ]
          },
          "metadata": {
            "tags": []
          },
          "execution_count": 243
        },
        {
          "output_type": "display_data",
          "data": {
            "image/png": "[encoded data removed]",
            "text/plain": [
              "<Figure size 432x288 with 1 Axes>"
            ]
          },
          "metadata": {
            "tags": [],
            "needs_background": "light"
          }
        }
      ]
    },
    {
      "cell_type": "code",
      "metadata": {
        "id": "D_VBvpSNiyEl"
      },
      "source": [
        ""
      ],
      "execution_count": null,
      "outputs": []
    }
  ]
}